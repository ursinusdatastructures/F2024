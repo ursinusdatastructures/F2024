{
 "cells": [
  {
   "cell_type": "code",
   "execution_count": 2,
   "id": "58623413-f963-4d06-9978-131cbe204a58",
   "metadata": {},
   "outputs": [],
   "source": [
    "import numpy as np\n",
    "import matplotlib.pyplot as plt"
   ]
  },
  {
   "cell_type": "code",
   "execution_count": 3,
   "id": "bbff9f9c-02cf-4d87-9937-44cf07919e9d",
   "metadata": {},
   "outputs": [
    {
     "name": "stdout",
     "output_type": "stream",
     "text": [
      "120\n",
      "6.906890595608519\n"
     ]
    }
   ],
   "source": [
    "def fac(N):\n",
    "    ret = 1\n",
    "    for i in range(1, N+1):\n",
    "        ret = ret*i\n",
    "    return ret\n",
    "print(fac(5))\n",
    "print(np.log2(fac(5)))"
   ]
  },
  {
   "cell_type": "code",
   "execution_count": 4,
   "id": "bbf21f8b-2e29-4aa8-9104-d06219d52581",
   "metadata": {},
   "outputs": [
    {
     "data": {
      "text/plain": [
       "Text(0, 0.5, '$\\\\log_2(N!)$')"
      ]
     },
     "execution_count": 4,
     "metadata": {},
     "output_type": "execute_result"
    },
    {
     "data": {
      "image/png": "[encoded data removed]",
      "text/plain": [
       "<Figure size 640x480 with 1 Axes>"
      ]
     },
     "metadata": {},
     "output_type": "display_data"
    }
   ],
   "source": [
    "Ns = np.arange(1, 21)\n",
    "res = [np.log2(fac(N)) for N in Ns]\n",
    "plt.plot(Ns, res)\n",
    "plt.xlabel(\"N\")\n",
    "plt.ylabel(\"$\\\\log_2(N!)$\")"
   ]
  },
  {
   "cell_type": "code",
   "execution_count": 5,
   "id": "d7576720-9546-4e74-bb59-01cdb70ab2c8",
   "metadata": {},
   "outputs": [
    {
     "name": "stdout",
     "output_type": "stream",
     "text": [
      "[2, 7, 1, 1, 7, 4, 5, 7, 6, 1000000000]\n",
      "[         1          1          2          4          5          6\n",
      "          7          7          7 1000000000]\n"
     ]
    },
    {
     "ename": "KeyboardInterrupt",
     "evalue": "",
     "output_type": "error",
     "traceback": [
      "\u001b[0;31m---------------------------------------------------------------------------\u001b[0m",
      "\u001b[0;31mKeyboardInterrupt\u001b[0m                         Traceback (most recent call last)",
      "Cell \u001b[0;32mIn[5], line 25\u001b[0m\n\u001b[1;32m     23\u001b[0m \u001b[38;5;28mprint\u001b[39m(arr)\n\u001b[1;32m     24\u001b[0m \u001b[38;5;28mprint\u001b[39m(np\u001b[38;5;241m.\u001b[39msort(arr))\n\u001b[0;32m---> 25\u001b[0m \u001b[43mcount_sort\u001b[49m\u001b[43m(\u001b[49m\u001b[43marr\u001b[49m\u001b[43m)\u001b[49m\n\u001b[1;32m     26\u001b[0m \u001b[38;5;28mprint\u001b[39m(arr)\n",
      "Cell \u001b[0;32mIn[5], line 11\u001b[0m, in \u001b[0;36mcount_sort\u001b[0;34m(arr)\u001b[0m\n\u001b[1;32m      7\u001b[0m K \u001b[38;5;241m=\u001b[39m np\u001b[38;5;241m.\u001b[39mmax(arr)\u001b[38;5;241m+\u001b[39m\u001b[38;5;241m1\u001b[39m \u001b[38;5;66;03m# O(N)\u001b[39;00m\n\u001b[1;32m      9\u001b[0m \u001b[38;5;66;03m## Step 2: Create a list which counts how many \u001b[39;00m\n\u001b[1;32m     10\u001b[0m \u001b[38;5;66;03m## of each possible number from 0 to N there are\u001b[39;00m\n\u001b[0;32m---> 11\u001b[0m counts \u001b[38;5;241m=\u001b[39m \u001b[43m[\u001b[49m\u001b[38;5;241;43m0\u001b[39;49m\u001b[43m \u001b[49m\u001b[38;5;28;43;01mfor\u001b[39;49;00m\u001b[43m \u001b[49m\u001b[43mi\u001b[49m\u001b[43m \u001b[49m\u001b[38;5;129;43;01min\u001b[39;49;00m\u001b[43m \u001b[49m\u001b[38;5;28;43mrange\u001b[39;49m\u001b[43m(\u001b[49m\u001b[43mK\u001b[49m\u001b[43m)\u001b[49m\u001b[43m]\u001b[49m \u001b[38;5;66;03m# O(K)\u001b[39;00m\n\u001b[1;32m     12\u001b[0m \u001b[38;5;28;01mfor\u001b[39;00m i \u001b[38;5;129;01min\u001b[39;00m \u001b[38;5;28mrange\u001b[39m(\u001b[38;5;28mlen\u001b[39m(arr)): \u001b[38;5;66;03m# O(N)\u001b[39;00m\n\u001b[1;32m     13\u001b[0m     counts[arr[i]] \u001b[38;5;241m+\u001b[39m\u001b[38;5;241m=\u001b[39m \u001b[38;5;241m1\u001b[39m\n",
      "Cell \u001b[0;32mIn[5], line 11\u001b[0m, in \u001b[0;36m<listcomp>\u001b[0;34m(.0)\u001b[0m\n\u001b[1;32m      7\u001b[0m K \u001b[38;5;241m=\u001b[39m np\u001b[38;5;241m.\u001b[39mmax(arr)\u001b[38;5;241m+\u001b[39m\u001b[38;5;241m1\u001b[39m \u001b[38;5;66;03m# O(N)\u001b[39;00m\n\u001b[1;32m      9\u001b[0m \u001b[38;5;66;03m## Step 2: Create a list which counts how many \u001b[39;00m\n\u001b[1;32m     10\u001b[0m \u001b[38;5;66;03m## of each possible number from 0 to N there are\u001b[39;00m\n\u001b[0;32m---> 11\u001b[0m counts \u001b[38;5;241m=\u001b[39m [\u001b[38;5;241m0\u001b[39m \u001b[38;5;28;01mfor\u001b[39;00m i \u001b[38;5;129;01min\u001b[39;00m \u001b[38;5;28mrange\u001b[39m(K)] \u001b[38;5;66;03m# O(K)\u001b[39;00m\n\u001b[1;32m     12\u001b[0m \u001b[38;5;28;01mfor\u001b[39;00m i \u001b[38;5;129;01min\u001b[39;00m \u001b[38;5;28mrange\u001b[39m(\u001b[38;5;28mlen\u001b[39m(arr)): \u001b[38;5;66;03m# O(N)\u001b[39;00m\n\u001b[1;32m     13\u001b[0m     counts[arr[i]] \u001b[38;5;241m+\u001b[39m\u001b[38;5;241m=\u001b[39m \u001b[38;5;241m1\u001b[39m\n",
      "\u001b[0;31mKeyboardInterrupt\u001b[0m: "
     ]
    }
   ],
   "source": [
    "def count_sort(arr):\n",
    "    \"\"\"\n",
    "    arr: A list of N nonnegative integer elements\n",
    "    O(N + K + N + N + K) is O(N + K)\n",
    "    \"\"\"\n",
    "    ## Step 1: What's the maximum element\n",
    "    K = np.max(arr)+1 # O(N)\n",
    "    \n",
    "    ## Step 2: Create a list which counts how many \n",
    "    ## of each possible number from 0 to N there are\n",
    "    counts = [0 for i in range(K)] # O(K)\n",
    "    for i in range(len(arr)): # O(N)\n",
    "        counts[arr[i]] += 1\n",
    "    \n",
    "    ## Step 3: Finish the sort!\n",
    "    idx = 0 # Keep track of where I am in the process of outputting\n",
    "    for i in range(K): #O(K + N)\n",
    "        for j in range(counts[i]): # Over all iterations, inner loop is O(N)\n",
    "            arr[idx] = i\n",
    "            idx += 1\n",
    "            \n",
    "arr = [2, 7, 1, 1, 7, 4, 5, 7, 6, 1000000000]\n",
    "print(arr)\n",
    "print(np.sort(arr))\n",
    "count_sort(arr)\n",
    "print(arr)\n"
   ]
  },
  {
   "cell_type": "code",
   "execution_count": 13,
   "id": "1f25de65-7114-4744-ac03-9fa9401a0448",
   "metadata": {},
   "outputs": [
    {
     "data": {
      "text/plain": [
       "0"
      ]
     },
     "execution_count": 13,
     "metadata": {},
     "output_type": "execute_result"
    }
   ],
   "source": [
    "def get_value_at_place(x, B, p):\n",
    "    \"\"\"\n",
    "    x: number\n",
    "    B: Base\n",
    "    p: Place\n",
    "    \"\"\"\n",
    "    return (x % (B**p)) // B**(p-1)\n",
    "\n",
    "get_value_at_place(1337, 10, 5)"
   ]
  },
  {
   "cell_type": "code",
   "execution_count": 30,
   "id": "1af17eda-3ac3-45f1-ac6e-741c8f31f403",
   "metadata": {},
   "outputs": [
    {
     "name": "stdout",
     "output_type": "stream",
     "text": [
      "Place 1\n",
      "[[54, 118, 44, 78, 91000, 98, 52], [15, 19, 33]]\n",
      "Place 2\n",
      "[[44, 91000, 52, 33], [54, 118, 78, 98, 15, 19]]\n",
      "Place 4\n",
      "[[91000, 33, 98, 19], [44, 52, 54, 118, 78, 15]]\n",
      "Place 8\n",
      "[[33, 98, 19, 52, 54, 118], [91000, 44, 78, 15]]\n",
      "Place 16\n",
      "[[33, 98, 44, 78, 15], [19, 52, 54, 118, 91000]]\n",
      "Place 32\n",
      "[[78, 15, 19], [33, 98, 44, 52, 54, 118, 91000]]\n",
      "Place 64\n",
      "[[15, 19, 33, 44, 52, 54], [78, 98, 118, 91000]]\n",
      "Place 128\n",
      "[[15, 19, 33, 44, 52, 54, 78, 98, 118, 91000], []]\n",
      "Place 256\n",
      "[[15, 19, 33, 44, 52, 54, 78, 98, 118], [91000]]\n",
      "Place 512\n",
      "[[15, 19, 33, 44, 52, 54, 78, 98, 118], [91000]]\n",
      "Place 1024\n",
      "[[15, 19, 33, 44, 52, 54, 78, 98, 118, 91000], []]\n",
      "Place 2048\n",
      "[[15, 19, 33, 44, 52, 54, 78, 98, 118, 91000], []]\n",
      "Place 4096\n",
      "[[15, 19, 33, 44, 52, 54, 78, 98, 118, 91000], []]\n",
      "Place 8192\n",
      "[[15, 19, 33, 44, 52, 54, 78, 98, 118], [91000]]\n",
      "Place 16384\n",
      "[[15, 19, 33, 44, 52, 54, 78, 98, 118], [91000]]\n",
      "Place 32768\n",
      "[[15, 19, 33, 44, 52, 54, 78, 98, 118, 91000], []]\n",
      "Place 65536\n",
      "[[15, 19, 33, 44, 52, 54, 78, 98, 118], [91000]]\n",
      "[15, 19, 33, 44, 52, 54, 78, 98, 118, 91000]\n"
     ]
    }
   ],
   "source": [
    "def lsd_radix_sort(arr, B):\n",
    "    \"\"\"\n",
    "    arr: A list of N nonnegative integer elements\n",
    "    B: int\n",
    "        Base of the number system I'm using to express the values in\n",
    "    \"\"\"\n",
    "    ## Step 1: What's the maximum element\n",
    "    K = B\n",
    "\n",
    "    ## Repeat this in a loop for every place\n",
    "    #total_places = max([ len(str(x)) for x in arr ])\n",
    "    total_places = max([ int(np.ceil(np.log(x)/np.log(B))) for x in arr])\n",
    "    \n",
    "    for p in range(1, total_places+1):\n",
    "        print(\"Place\", B**(p-1))\n",
    "        ## Step 2: Create a list which counts how many \n",
    "        ## of each possible number from 0 to N there are\n",
    "        buckets = [[] for i in range(K)] # O(K)\n",
    "        for i in range(len(arr)): # O(N)\n",
    "            ##TODO: Fill this in\n",
    "            place_num = get_value_at_place(arr[i], B, p)\n",
    "            buckets[place_num].append(arr[i])\n",
    "    \n",
    "        print(buckets)\n",
    "        \n",
    "        ## Step 3: Finish the sort!\n",
    "        idx = 0 # Keep track of where I am in the process of outputting\n",
    "        for i in range(K): #O(K + N)\n",
    "            bucket = buckets[i]\n",
    "            for j in range(len(bucket)):\n",
    "                arr[idx] = bucket[j]\n",
    "                idx += 1\n",
    "\n",
    "arr = [54, 118, 15, 44, 78, 91000, 98, 19, 33, 52]\n",
    "lsd_radix_sort(arr, 2)\n",
    "print(arr)"
   ]
  },
  {
   "cell_type": "code",
   "execution_count": 19,
   "id": "4f28040f-c1b0-465e-8591-9377e451bc0f",
   "metadata": {},
   "outputs": [
    {
     "name": "stdout",
     "output_type": "stream",
     "text": [
      "3\n"
     ]
    }
   ],
   "source": [
    "total_places = max([ len(str(x)) for x in arr ])\n",
    "print(total_places)"
   ]
  },
  {
   "cell_type": "code",
   "execution_count": 26,
   "id": "8bb48354-cdcc-4b6e-9f51-85784516228e",
   "metadata": {},
   "outputs": [
    {
     "data": {
      "text/plain": [
       "3.0"
      ]
     },
     "execution_count": 26,
     "metadata": {},
     "output_type": "execute_result"
    }
   ],
   "source": [
    "np.ceil(np.log(271)/np.log(10))"
   ]
  },
  {
   "cell_type": "code",
   "execution_count": null,
   "id": "ce613bf4-8026-4e4c-a850-329b7d8a995e",
   "metadata": {},
   "outputs": [],
   "source": []
  }
 ],
 "metadata": {
  "kernelspec": {
   "display_name": "Python 3 (ipykernel)",
   "language": "python",
   "name": "python3"
  },
  "language_info": {
   "codemirror_mode": {
    "name": "ipython",
    "version": 3
   },
   "file_extension": ".py",
   "mimetype": "text/x-python",
   "name": "python",
   "nbconvert_exporter": "python",
   "pygments_lexer": "ipython3",
   "version": "3.11.10"
  }
 },
 "nbformat": 4,
 "nbformat_minor": 5
}
